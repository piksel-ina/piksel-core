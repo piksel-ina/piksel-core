{
 "cells": [
  {
   "cell_type": "markdown",
   "metadata": {},
   "source": [
    "# Getting Started with Landsat Surface Temperature\n",
    "\n",
    "This notebook is a very simple example of the fundamentals of working with\n",
    "Earth observation data using the Open Data Cube.\n",
    "\n",
    "## Import libraries"
   ]
  },
  {
   "cell_type": "code",
   "execution_count": null,
   "metadata": {},
   "outputs": [],
   "source": [
    "from datacube import Datacube\n",
    "from datacube.utils.aws import configure_s3_access\n",
    "from datacube.utils import masking\n",
    "from odc.geo.geom import point\n",
    "\n",
    "from utils import patch_usgs_landsat"
   ]
  },
  {
   "cell_type": "markdown",
   "metadata": {},
   "source": [
    "## Configure the environment"
   ]
  },
  {
   "cell_type": "code",
   "execution_count": null,
   "metadata": {},
   "outputs": [],
   "source": [
    "configure_s3_access(requester_pays=True)\n",
    "\n",
    "dc = Datacube()"
   ]
  },
  {
   "cell_type": "markdown",
   "metadata": {},
   "source": [
    "## Pick a study area"
   ]
  },
  {
   "cell_type": "code",
   "execution_count": null,
   "metadata": {},
   "outputs": [],
   "source": [
    "# Find a location you're interested in on Google Maps and copy the coordinates\n",
    "# by right-clicking on the map and clicking the coordinates\n",
    "\n",
    "# These coords are in the order Y then X, or Latitude then Longitude\n",
    "coords = -8.6252, 115.2048  # Denpasar, Bali\n",
    "aoi_point = point(coords[1], coords[0], crs=\"EPSG:4326\")\n",
    "bbox = aoi_point.buffer(0.05).boundingbox\n",
    "\n",
    "landsat_stretch = dict(vmin=7500, vmax=12000)\n",
    "\n",
    "datetime = \"2025\"\n",
    "\n",
    "# Preview the area\n",
    "bbox.explore(zoom=8)"
   ]
  },
  {
   "cell_type": "markdown",
   "metadata": {},
   "source": [
    "## Load data\n",
    "\n",
    "This uses the Datacube library to handle loading of the actual data. The `dask_chunks` argument instructs the tool to use Dask\n",
    "to lazy-load the data.\n",
    "\n",
    "Here we mask out clouds, which interfere with the temperature, and then convert to degrees celcius."
   ]
  },
  {
   "cell_type": "code",
   "execution_count": null,
   "metadata": {},
   "outputs": [],
   "source": [
    "data = dc.load(\n",
    "    product=\"ls9_c2l2_st\",\n",
    "    measurements=[\"st\", \"qa_pixel\"],\n",
    "    output_crs=\"EPSG:32750\",\n",
    "    resolution=30,\n",
    "    time=datetime,\n",
    "    longitude=(bbox.left, bbox.right),\n",
    "    latitude=(bbox.bottom, bbox.top),\n",
    "    dask_chunks={\"time\": 1, \"x\": 512, \"y\": 512},\n",
    "    group_by=\"solar_day\",\n",
    "    patch_url=patch_usgs_landsat\n",
    ")\n",
    "\n",
    "# Select clouds\n",
    "mask, _ = masking.create_mask_value(\n",
    "    data[\"qa_pixel\"].attrs[\"flags_definition\"], cloud=\"high_confidence\", cloud_shadow=\"high_confidence\"\n",
    ")\n",
    "\n",
    "pq_mask = (data[\"qa_pixel\"] & mask) != 0\n",
    "nodata = data.st == 0\n",
    "mask = pq_mask | nodata\n",
    "\n",
    "# Combine the masks\n",
    "data = data.where(~mask)\n",
    "\n",
    "data[\"st\"] = data.st * 0.00341802 + 149.0 - 273.15\n",
    "\n",
    "data"
   ]
  },
  {
   "cell_type": "markdown",
   "metadata": {},
   "source": [
    "## Visualise data\n",
    "\n",
    "This step uses `matplotlib` to view data as a static image. It takes a longer time to\n",
    "run than previous steps, because it's actually loading the data to prepare the images.\n",
    "\n",
    "The `to_array()` function is a trick used to be able to visualise the data as a\n",
    "red, green, blue \"true colour\" image."
   ]
  },
  {
   "cell_type": "code",
   "execution_count": null,
   "metadata": {},
   "outputs": [],
   "source": [
    "data.st.plot.imshow(col=\"time\", col_wrap=2, size=4, cmap=\"coolwarm\")"
   ]
  },
  {
   "cell_type": "code",
   "execution_count": null,
   "metadata": {},
   "outputs": [],
   "source": [
    "# Get a spatial mean and plot a timeseries\n",
    "clean = data.st.dropna(dim=\"time\", how=\"all\")\n",
    "mean = clean.mean(dim=(\"x\", \"y\")).compute()\n",
    "mean.plot.line(x=\"time\", size=4, color=\"black\", label=\"Mean\")"
   ]
  },
  {
   "cell_type": "markdown",
   "metadata": {},
   "source": [
    "## Export data\n",
    "\n",
    "Here we write data to disk, again using an `odc` tool."
   ]
  },
  {
   "cell_type": "code",
   "execution_count": null,
   "metadata": {},
   "outputs": [],
   "source": [
    "rgba = best.odc.to_rgba(**landsat_stretch)\n",
    "rgba.odc.write_cog(\"landsat_example.tif\", overwrite=True)"
   ]
  }
 ],
 "metadata": {
  "kernelspec": {
   "display_name": "Python 3",
   "language": "python",
   "name": "python3"
  },
  "language_info": {
   "codemirror_mode": {
    "name": "ipython",
    "version": 3
   },
   "file_extension": ".py",
   "mimetype": "text/x-python",
   "name": "python",
   "nbconvert_exporter": "python",
   "pygments_lexer": "ipython3",
   "version": "3.11.11"
  }
 },
 "nbformat": 4,
 "nbformat_minor": 2
}
