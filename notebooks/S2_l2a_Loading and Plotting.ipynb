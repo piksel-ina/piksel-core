{
 "cells": [
  {
   "cell_type": "code",
   "execution_count": null,
   "id": "505075bd-7673-4be1-8c17-1b0ddde62804",
   "metadata": {},
   "outputs": [],
   "source": [
    "# Import required packages\n",
    "import matplotlib.pyplot as plt\n",
    "import pandas as pd\n",
    "from datacube import Datacube\n",
    "from odc.ui import DcViewer\n",
    "from pprint import pprint\n",
    "from odc.geo import resxy_\n",
    "\n",
    "# Set some configurations for displaying tables nicely\n",
    "pd.set_option('display.max_colwidth', 200)\n",
    "pd.set_option('display.max_rows', None)"
   ]
  },
  {
   "cell_type": "code",
   "execution_count": null,
   "id": "da134f3f-c32f-40dd-8d47-e46ee883459f",
   "metadata": {},
   "outputs": [],
   "source": [
    "# Connect to datacube\n",
    "dc = Datacube(app=\"Products_and_measurements\")"
   ]
  },
  {
   "cell_type": "markdown",
   "id": "a7ff53ab-88db-48b8-acc9-337136e34a52",
   "metadata": {},
   "source": [
    "## Product Discovery"
   ]
  },
  {
   "cell_type": "code",
   "execution_count": null,
   "id": "14fe8015-c67a-49e1-be15-11357bc89a0c",
   "metadata": {},
   "outputs": [],
   "source": [
    "# List Products\n",
    "dc.list_products()"
   ]
  },
  {
   "cell_type": "code",
   "execution_count": null,
   "id": "28627d9f-e51a-4ed8-b680-ea81f8036a41",
   "metadata": {},
   "outputs": [],
   "source": [
    "# List measurements\n",
    "dc.list_measurements()"
   ]
  },
  {
   "cell_type": "markdown",
   "id": "5f436b4f-0092-4d19-a06b-2a502112589a",
   "metadata": {},
   "source": [
    "## Dataset Searching & Querying"
   ]
  },
  {
   "cell_type": "markdown",
   "id": "1c1b8573-1764-491c-83d4-183018ff8612",
   "metadata": {},
   "source": [
    "### Finding Dataset"
   ]
  },
  {
   "cell_type": "code",
   "execution_count": null,
   "id": "ef5fb774-d895-4877-a09b-c50030d44e0a",
   "metadata": {},
   "outputs": [],
   "source": [
    "datasets = dc.find_datasets(product=\"sentinel_2_l2a\", limit=1)\n",
    "datasets"
   ]
  },
  {
   "cell_type": "markdown",
   "id": "c8a6a15b-f070-4b3a-b71f-06e82c7e93c8",
   "metadata": {},
   "source": [
    "We can also search for datasets within a specific spatial extent or time period. To do this, we supply a spatiotemporal query (i.e. a range of x- and y-coordinates defining the spatial area to load, and a range of times).\n",
    "\n",
    "`dc.find_datasets()` will then return a subset of datasets that match this query:"
   ]
  },
  {
   "cell_type": "code",
   "execution_count": null,
   "id": "e57b7b29-4640-4a87-8b0a-78fbcae8c503",
   "metadata": {},
   "outputs": [],
   "source": [
    "datasets = dc.find_datasets(\n",
    "    product=\"sentinel_2_l2a\",\n",
    "    x=(114, 116),\n",
    "    y=(-7, -9),\n",
    "    time=(\"2020-01-01\", \"2020-01-02\")\n",
    ")\n",
    "datasets"
   ]
  },
  {
   "cell_type": "markdown",
   "id": "fd92c63b-ea78-4814-b5a6-2461f4c66eaa",
   "metadata": {},
   "source": [
    "### Inspecting Dataset"
   ]
  },
  {
   "cell_type": "code",
   "execution_count": null,
   "id": "4b4e0c1d-5ce1-4623-b914-61eceed26567",
   "metadata": {},
   "outputs": [],
   "source": [
    "datasets[0].uris"
   ]
  },
  {
   "cell_type": "code",
   "execution_count": null,
   "id": "2002188c-dc7d-47de-965c-6c2ca372d908",
   "metadata": {},
   "outputs": [],
   "source": [
    "datasets[0].measurements"
   ]
  },
  {
   "cell_type": "code",
   "execution_count": null,
   "id": "d109243b-aa80-4dd1-ba89-d450d42124af",
   "metadata": {},
   "outputs": [],
   "source": [
    "datasets[0].crs"
   ]
  },
  {
   "cell_type": "code",
   "execution_count": null,
   "id": "32abf4a1-9f4f-4fdf-8547-0ba08952dc6d",
   "metadata": {},
   "outputs": [],
   "source": [
    "datasets[0].transform"
   ]
  },
  {
   "cell_type": "code",
   "execution_count": null,
   "id": "60d0e494-a34d-4cb5-b79f-1c2f28af8eba",
   "metadata": {},
   "outputs": [],
   "source": [
    "# attributes and methods that are available\n",
    "ds0 = datasets[0]\n",
    "dir(ds0.metadata)"
   ]
  },
  {
   "cell_type": "code",
   "execution_count": null,
   "id": "ddfa4a50-d30d-42f4-8c13-3841c62f7c1f",
   "metadata": {},
   "outputs": [],
   "source": [
    "ds0.metadata.cloud_cover"
   ]
  },
  {
   "cell_type": "code",
   "execution_count": null,
   "id": "172eb3cd-abf2-4931-9605-147b9dd562c5",
   "metadata": {},
   "outputs": [],
   "source": [
    "getattr(ds0.metadata, 'cloud_cover')"
   ]
  },
  {
   "cell_type": "code",
   "execution_count": null,
   "id": "cdb0f8cd-31eb-4b06-812b-ebd6bff5a233",
   "metadata": {},
   "outputs": [],
   "source": [
    "ds0.metadata.id"
   ]
  },
  {
   "cell_type": "code",
   "execution_count": null,
   "id": "cb98d376-f97b-4ca2-89ba-630d8601d3b5",
   "metadata": {},
   "outputs": [],
   "source": [
    "ds0.metadata.lat"
   ]
  },
  {
   "cell_type": "code",
   "execution_count": null,
   "id": "521f0685-273b-4a59-b0e5-cec3f80f707b",
   "metadata": {},
   "outputs": [],
   "source": [
    "ds0.metadata.lat.begin"
   ]
  },
  {
   "cell_type": "code",
   "execution_count": null,
   "id": "91d4e0bb-6d41-4b92-97db-2735d5b36efe",
   "metadata": {},
   "outputs": [],
   "source": [
    "# pprint(vars(ds0))"
   ]
  },
  {
   "cell_type": "markdown",
   "id": "d36bc34d-a958-45d8-92cd-82c1ff175692",
   "metadata": {},
   "source": [
    "## Load Data\n",
    "Once you know the products or datasets that you are interested in, you can load data using `dc.load()`."
   ]
  },
  {
   "cell_type": "code",
   "execution_count": null,
   "id": "cc7bce42-1756-475b-b62b-9ce557293b55",
   "metadata": {},
   "outputs": [],
   "source": [
    "datasets_2 = dc.find_datasets(\n",
    "    product=\"sentinel_2_l2a\",\n",
    "    x=(114, 115),\n",
    "    y=(-7, -8),\n",
    "    time=(\"2020-01-01\", \"2020-01-02\")\n",
    ")\n",
    "datasets_2"
   ]
  },
  {
   "cell_type": "code",
   "execution_count": null,
   "id": "a1a40bd8-10d0-4738-9151-1d3af6153944",
   "metadata": {},
   "outputs": [],
   "source": [
    "from pyproj import CRS\n",
    "crs = CRS(\"EPSG:9468\")\n",
    "print(\"Projected:\", crs.is_projected, \"Geographic:\", crs.is_geographic)\n",
    "print(crs)"
   ]
  },
  {
   "cell_type": "code",
   "execution_count": null,
   "id": "86faf4ff-36f2-4c55-a30d-5ea039b72e38",
   "metadata": {},
   "outputs": [],
   "source": [
    "pprint(datasets_2[0].measurements)"
   ]
  },
  {
   "cell_type": "code",
   "execution_count": null,
   "id": "a56d92f1-7ace-4c66-8be2-a2202bf07649",
   "metadata": {},
   "outputs": [],
   "source": [
    "print(\"Available measurements:\")\n",
    "for meas in datasets_2[0].measurements.keys():\n",
    "    print(meas)"
   ]
  },
  {
   "cell_type": "code",
   "execution_count": null,
   "id": "3c3b8992-903b-44de-8bff-a797da0fc47b",
   "metadata": {},
   "outputs": [],
   "source": [
    "ds2 = dc.load(\n",
    "    datasets=datasets_2,\n",
    "    measurements= [\"red\", \"blue\", \"green\"],\n",
    "    output_crs=\"EPSG:4326\", #because EPSG:9468 doesn't work here\n",
    "    resolution=resxy_(-0.01, 0.01)\n",
    ")"
   ]
  },
  {
   "cell_type": "code",
   "execution_count": null,
   "id": "3c8917c5-c3de-4db1-ab5d-6b0f7b485bd1",
   "metadata": {},
   "outputs": [],
   "source": [
    "ds2"
   ]
  },
  {
   "cell_type": "markdown",
   "id": "e7a5825b-c385-471f-b6d9-b1a71702271c",
   "metadata": {},
   "source": [
    "We can see that `dc.load` has returned an `xarray.Dataset` containing data from our two input datasets. \n",
    "\n",
    "> This `xarray.Dataset` includes:  \n",
    "> **Dimensions**  \n",
    "> This header identifies the number of timesteps returned (time: 2) as well as the number of resulting pixels in the `x` and `y` directions.\n",
    "> \n",
    "> **Coordinates**  \n",
    "> - time identifies the time attributed to each returned timestep.\n",
    "> - x and y provide coordinates for each pixel within the returned data.  \n",
    "> - spatial_ref provides information about the spatial grid used to load the data\n",
    "> \n",
    ">**Data variables**  \n",
    "> These are the measurements available for the loaded product.\n",
    "> For every timestep (time) returned by the query, the measured value at each pixel (y, x) is returned as an array for each measurement.\n",
    "> Each data variable is itself an `xarray.DataArray` object.\n",
    "> \n",
    "> **Attributes**  \n",
    "> Other important metadata or attributes for the loaded data"
   ]
  },
  {
   "cell_type": "markdown",
   "id": "2e57922a-e81d-4f83-a1b1-96138c4e952e",
   "metadata": {},
   "source": [
    "We can also inspect our loaded data by plotting it:"
   ]
  },
  {
   "cell_type": "code",
   "execution_count": null,
   "id": "df08d575-4fb2-4f08-b514-8d250f32543a",
   "metadata": {},
   "outputs": [],
   "source": [
    "# Plot the data (using the correct variable name)\n",
    "ds2.isel(time=1)[[\"red\", \"green\", \"blue\"]].to_array().plot.imshow(robust=True)"
   ]
  },
  {
   "cell_type": "code",
   "execution_count": null,
   "id": "74d5dbc7-196a-4933-a34e-586770270b55",
   "metadata": {
    "editable": true,
    "slideshow": {
     "slide_type": ""
    },
    "tags": []
   },
   "outputs": [],
   "source": []
  }
 ],
 "metadata": {
  "kernelspec": {
   "display_name": "Python 3 (ipykernel)",
   "language": "python",
   "name": "python3"
  },
  "language_info": {
   "codemirror_mode": {
    "name": "ipython",
    "version": 3
   },
   "file_extension": ".py",
   "mimetype": "text/x-python",
   "name": "python",
   "nbconvert_exporter": "python",
   "pygments_lexer": "ipython3",
   "version": "3.12.3"
  }
 },
 "nbformat": 4,
 "nbformat_minor": 5
}
