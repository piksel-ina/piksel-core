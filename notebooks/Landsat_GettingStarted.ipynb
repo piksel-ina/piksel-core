{
 "cells": [
  {
   "cell_type": "markdown",
   "metadata": {},
   "source": [
    "# Getting Started with Landsat\n",
    "\n",
    "This notebook is a very simple example of the fundamentals of working with\n",
    "Earth observation data using the Open Data Cube.\n",
    "\n",
    "## Import libraries"
   ]
  },
  {
   "cell_type": "code",
   "execution_count": null,
   "metadata": {},
   "outputs": [],
   "source": [
    "from datacube import Datacube\n",
    "from odc.stac import configure_s3_access\n",
    "from odc.geo.geom import point\n",
    "\n",
    "from piksel.utils import patch_usgs_landsat"
   ]
  },
  {
   "cell_type": "markdown",
   "metadata": {},
   "source": [
    "## Configure the environment"
   ]
  },
  {
   "cell_type": "code",
   "execution_count": null,
   "metadata": {},
   "outputs": [],
   "source": [
    "configure_s3_access(requester_pays=True)\n",
    "\n",
    "dc = Datacube()"
   ]
  },
  {
   "cell_type": "markdown",
   "metadata": {},
   "source": [
    "## Pick a study area"
   ]
  },
  {
   "cell_type": "code",
   "execution_count": null,
   "metadata": {},
   "outputs": [],
   "source": [
    "# Find a location you're interested in on Google Maps and copy the coordinates\n",
    "# by right-clicking on the map and clicking the coordinates\n",
    "\n",
    "# These coords are in the order Y then X, or Latitude then Longitude\n",
    "coords = -8.6252, 115.2048  # Denpasar, Bali\n",
    "aoi_point = point(coords[1], coords[0], crs=\"EPSG:4326\")\n",
    "bbox = aoi_point.buffer(0.2).boundingbox\n",
    "\n",
    "landsat_stretch = dict(vmin=7500, vmax=12000)\n",
    "\n",
    "datetime = \"2025-03\"\n",
    "\n",
    "# Preview the area\n",
    "bbox.explore(zoom=8)"
   ]
  },
  {
   "cell_type": "markdown",
   "metadata": {},
   "source": [
    "## Load data\n",
    "\n",
    "This uses the Datacube library to handle loading of the actual data. The `dask_chunks` argument instructs the tool to use Dask\n",
    "to lazy-load the data."
   ]
  },
  {
   "cell_type": "code",
   "execution_count": null,
   "metadata": {},
   "outputs": [],
   "source": [
    "data = dc.load(\n",
    "    product=\"ls9_c2l2_sr\",\n",
    "    measurements=[\"red\", \"green\", \"blue\"],\n",
    "    output_crs=\"EPSG:32750\",\n",
    "    resolution=30,\n",
    "    time=datetime,\n",
    "    longitude=(bbox.left, bbox.right),\n",
    "    latitude=(bbox.bottom, bbox.top),\n",
    "    dask_chunks={\"time\": 1, \"x\": 512, \"y\": 512},\n",
    "    group_by=\"solar_day\",\n",
    "    patch_url=patch_usgs_landsat\n",
    ")\n",
    "\n",
    "data"
   ]
  },
  {
   "cell_type": "markdown",
   "metadata": {},
   "source": [
    "## Visualise data\n",
    "\n",
    "This step uses `matplotlib` to view data as a static image. It takes a longer time to\n",
    "run than previous steps, because it's actually loading the data to prepare the images.\n",
    "\n",
    "The `to_array()` function is a trick used to be able to visualise the data as a\n",
    "red, green, blue \"true colour\" image."
   ]
  },
  {
   "cell_type": "code",
   "execution_count": null,
   "metadata": {},
   "outputs": [],
   "source": [
    "data.to_array().plot.imshow(col=\"time\", col_wrap=2, size=6, **landsat_stretch)"
   ]
  },
  {
   "cell_type": "markdown",
   "metadata": {},
   "source": [
    "### Interactive map\n",
    "\n",
    "This step uses another `odc` tool to visualise the data on a map."
   ]
  },
  {
   "cell_type": "code",
   "execution_count": null,
   "metadata": {},
   "outputs": [],
   "source": [
    "best = data.sel(time=\"2025-03-17\").squeeze()\n",
    "\n",
    "# The odc.explore function will choose red, green and blue by default\n",
    "# but you can choose bands with the bands=[\"b1\", \"b2\", \"b3\"] argument\n",
    "best.odc.explore(**landsat_stretch)"
   ]
  },
  {
   "cell_type": "markdown",
   "metadata": {},
   "source": [
    "## Export data\n",
    "\n",
    "Here we write data to disk, again using an `odc` tool."
   ]
  },
  {
   "cell_type": "code",
   "execution_count": null,
   "metadata": {},
   "outputs": [],
   "source": [
    "rgba = best.odc.to_rgba(**landsat_stretch)\n",
    "rgba.odc.write_cog(\"landsat_example.tif\", overwrite=True)"
   ]
  }
 ],
 "metadata": {
  "kernelspec": {
   "display_name": "Python 3 (ipykernel)",
   "language": "python",
   "name": "python3"
  },
  "language_info": {
   "codemirror_mode": {
    "name": "ipython",
    "version": 3
   },
   "file_extension": ".py",
   "mimetype": "text/x-python",
   "name": "python",
   "nbconvert_exporter": "python",
   "pygments_lexer": "ipython3",
   "version": "3.12.10"
  }
 },
 "nbformat": 4,
 "nbformat_minor": 4
}
